{
 "metadata": {
  "name": "ESQ"
 },
 "nbformat": 3,
 "nbformat_minor": 0,
 "worksheets": [
  {
   "cells": [
    {
     "cell_type": "code",
     "collapsed": false,
     "input": "import sunpy\nimport pyfits\nimport numpy\nimport matplotlib.pyplot as plt\nfrom scipy import *\nfrom pylab import *\n",
     "language": "python",
     "metadata": {},
     "outputs": [],
     "prompt_number": 68
    },
    {
     "cell_type": "code",
     "collapsed": false,
     "input": "\nfilename_data = 'CLEAN_INTEN_GONG_X_T.fits'\nfilename_diff = 'CLEAN_INTEN_DIFF.fits'\nfilename_mask = 'mask_qs.fits'\n\nhdu_gong = pyfits.open(filename_data)\nhdu_diff = pyfits.open(filename_diff)\nhdu_mask = pyfits.open(filename_mask)\n \ndatag = hdu_gong[0].data\nhdrg  = hdu_gong[0].header\n\ndatad = hdu_diff[0].data\nhdrd  = hdu_diff[0].header\n\ndatam = hdu_mask[0].data",
     "language": "python",
     "metadata": {},
     "outputs": [],
     "prompt_number": 69
    },
    {
     "cell_type": "code",
     "collapsed": false,
     "input": "\n#LASP Irradiance of the day\nlasp_irrad = 1357.50\n\nfmask = 27\n\na = datag[fmask,:,:]\n\n#Mask definition using the 70% contour\ndatar = numpy.ma.masked_where(datad[fmask,:,:] < 0.7*numpy.ma.maximum(datad[fmask,:,:]), a)\n\n\n#Show masked image (opc.)\n\nplt.imshow(datar, cmap=plt.cm.gray)\nplt.show()\n\n\nimport os\nimport re \ndirList=os.listdir('RAW_DATA/')\n\ntotal_Int_Sun = []\ntt = []\ndt = []\n\nfor fname in dirList:\n    f = os.popen(\"sig_stats RAW_DATA/%s\" %(fname),'r').readlines()#  > tmp_stats\")\n\naf = f[2].split()\nmean_intensity = float(af[2])\naf = f[3].split()\nntotal_pixels  =  float(af[0])\n\n#Reading fits files to generate the temporal array\nhdu_tmp = pyfits.open(\"RAW_DATA/%s\" %(fname))\nhdat  = hdu_tmp[0].data\nhdat = rot90(hdat)\nhtmp  = hdu_tmp[0].header\n\nqs_norm = numpy.mean(numpy.ma.masked_where(datam == 1.0, hdat))\n\n\nstr = \"T\"\nseq = (htmp['DATE-OBS'], htmp['TIME-OBS']) # This is sequence of strings.\ntt.append(str.join(seq))\n    \nstr = \" \"\nseq = (htmp['DATE-OBS'], htmp['TIME-OBS']) # This is sequence of strings.\ndt.append(str.join(seq))\n\n \n#Computation and storage of the total solar intensity\ntotal_Int_Sun.append(mean_intensity*ntotal_pixels/qs_norm)\n\n\n#------------------------------\n#  Gong pixel in arcsec = 2.4\n#  Gong pixel in Mm = 1.74\n#------------------------------\n\n#Image statitics\nmask_stats = float(numpy.ma.count(datar))\n\nprint \"Mask Image Statistics\"  \nprint \"Total of Pixel Values = %f\" % (mask_stats)   \nprint \"Total Area in px^2    = %f\" % (numpy.sqrt(mask_stats))\nprint \"Total Area in arcsec^2= %f\" % (numpy.sqrt(mask_stats)*2.4)\nprint \"Total Area in cm^2    = %g\" % (numpy.sqrt(mask_stats)*1.74E16)\nprint \" \"\nprint \"Total Solar Intensity = %g\" % (numpy.mean(total_Int_Sun)/ntotal_pixels) \n\npos_px_size = 1.0# (700.0E6 * 0.002)**2\n\n#Computation of the irradiance as the Sum of all values inside the area.\nirrad = []\nttp = []\n",
     "language": "python",
     "metadata": {},
     "outputs": [
      {
       "output_type": "display_data",
       "png": "[encoded data removed]",
       "text": "<matplotlib.figure.Figure at 0x103902190>"
      },
      {
       "output_type": "stream",
       "stream": "stdout",
       "text": "Mask Image Statistics\nTotal of Pixel Values = 84.000000\nTotal Area in px^2    = 9.165151\nTotal Area in arcsec^2= 21.996363\nTotal Area in cm^2    = 1.59474e+17\n \nTotal Solar Intensity = 1.0047\n"
      }
     ],
     "prompt_number": 87
    },
    {
     "cell_type": "code",
     "collapsed": false,
     "input": "for i in range (0,len(datag[:,0,0])): \n    image = datag[i,:,:]\n    I_wl = 2.0*pos_px_size*(numpy.sum(numpy.ma.masked_where(datad[fmask,:,:] < 0.7*numpy.ma.maximum(datad[fmask,:,:]), image))) #/numpy.mean(total_Int_Sun)\n    irrad.append(I_wl*lasp_irrad/total_Int_Sun) \n    ttp.append(i)\n\nyerr = 1.e-5   \n\n# define our fitting function\nfrom scipy.optimize import curve_fit\n\ntarray = array(ttp)\niarray = array(irrad)\n\ndef fit_func(x, a0, a1, a2, a3, a4, a5, a6, a7):\n    a1=fmask+1\n    z = (x - a1) / a2\n    stp = a5*(1+(2./numpy.pi)*numpy.arctan(a6*(x-a1)))\n    y = a0 * numpy.exp(-z**2 / a2) + a3 + a4 * x  + stp + a7 * x**2\n    return y\n\n\n#Computation of the Luminosity\nimport ephem\n\nu = ephem.Sun(dt[0])\neph  = u.earth_distance\nL_WL = numpy.pi*eph*(149598000000.**2)*iarray #*lasp_irrad    #;*cos(!dtor*20.)\n\n#Estimation of the error based on the preflare variation of the luminosity \npf_max =  L_WL[0:20].max()\npf_min =  L_WL[0:20].min()\n\n#Computation of the energy in ergs\n\nbw_e = 0.0\n",
     "language": "python",
     "metadata": {},
     "outputs": [],
     "prompt_number": 127
    },
    {
     "cell_type": "code",
     "collapsed": false,
     "input": "#Es necesario mirar la difinici\u00f3n de parameter y wfit",
     "language": "python",
     "metadata": {},
     "outputs": [],
     "prompt_number": 128
    },
    {
     "cell_type": "code",
     "collapsed": false,
     "input": "",
     "language": "python",
     "metadata": {},
     "outputs": [],
     "prompt_number": 103
    },
    {
     "cell_type": "code",
     "collapsed": false,
     "input": "",
     "language": "python",
     "metadata": {},
     "outputs": []
    }
   ],
   "metadata": {}
  }
 ]
}